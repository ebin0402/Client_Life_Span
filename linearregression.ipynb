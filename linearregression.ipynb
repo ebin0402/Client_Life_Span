{
 "cells": [
  {
   "cell_type": "code",
   "execution_count": 19,
   "metadata": {},
   "outputs": [
    {
     "name": "stdout",
     "output_type": "stream",
     "text": [
      "<class 'pandas.core.frame.DataFrame'>\n",
      "RangeIndex: 500 entries, 0 to 499\n",
      "Data columns (total 19 columns):\n",
      "id                   500 non-null int64\n",
      "name                 500 non-null object\n",
      "biz_url              494 non-null object\n",
      "street               500 non-null object\n",
      "city                 500 non-null object\n",
      "postal_code          500 non-null object\n",
      "state_iso            500 non-null object\n",
      "country_iso          500 non-null object\n",
      "category_id          500 non-null int64\n",
      "sub_category_id      500 non-null int64\n",
      "description          500 non-null object\n",
      "payment_methods      500 non-null object\n",
      "franchise            500 non-null object\n",
      "updated              500 non-null object\n",
      "plan_id              500 non-null int64\n",
      "hide_address         500 non-null object\n",
      "billing_period       500 non-null int64\n",
      "is_chain_business    500 non-null object\n",
      "archived_at          500 non-null object\n",
      "dtypes: int64(5), object(14)\n",
      "memory usage: 74.3+ KB\n"
     ]
    }
   ],
   "source": [
    "#importing necessary libraries\n",
    "import pandas as pd\n",
    "import numpy as np\n",
    "\n",
    "#Read the file \n",
    "path = '/Users/ebin/OneDrive/machinelearning/my_projects/Synup_location_life_predictor/Data/synup_locations_data.csv'\n",
    "df = pd.read_csv(path)\n",
    "\n",
    "\n",
    "df.shape\n",
    "df.index\n",
    "df.columns\n",
    "df.shape\n",
    "df.dtypes\n",
    "df.info()"
   ]
  },
  {
   "cell_type": "code",
   "execution_count": null,
   "metadata": {},
   "outputs": [],
   "source": []
  }
 ],
 "metadata": {
  "kernelspec": {
   "display_name": "Python 3",
   "language": "python",
   "name": "python3"
  },
  "language_info": {
   "codemirror_mode": {
    "name": "ipython",
    "version": 3
   },
   "file_extension": ".py",
   "mimetype": "text/x-python",
   "name": "python",
   "nbconvert_exporter": "python",
   "pygments_lexer": "ipython3",
   "version": "3.7.4"
  }
 },
 "nbformat": 4,
 "nbformat_minor": 2
}

